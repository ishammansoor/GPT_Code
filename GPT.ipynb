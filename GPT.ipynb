{
  "nbformat": 4,
  "nbformat_minor": 0,
  "metadata": {
    "colab": {
      "provenance": [],
      "authorship_tag": "ABX9TyNqJnRgCT5wmFcGzfr/UtXY",
      "include_colab_link": true
    },
    "kernelspec": {
      "name": "python3",
      "display_name": "Python 3"
    },
    "language_info": {
      "name": "python"
    }
  },
  "cells": [
    {
      "cell_type": "markdown",
      "metadata": {
        "id": "view-in-github",
        "colab_type": "text"
      },
      "source": [
        "<a href=\"https://colab.research.google.com/github/ishammansoor/GPT_Code/blob/main/GPT.ipynb\" target=\"_parent\"><img src=\"https://colab.research.google.com/assets/colab-badge.svg\" alt=\"Open In Colab\"/></a>"
      ]
    },
    {
      "cell_type": "code",
      "execution_count": 33,
      "metadata": {
        "id": "eCKh7OohyLp_"
      },
      "outputs": [],
      "source": [
        "import numpy as np\n",
        "\n"
      ]
    },
    {
      "cell_type": "markdown",
      "source": [
        "Creating a Tokenizer class:"
      ],
      "metadata": {
        "id": "66GdXgNuFbj2"
      }
    },
    {
      "cell_type": "code",
      "source": [
        "class SimpleTokenizer:\n",
        "\n",
        "  # creating mapping from word to text and wise versa\n",
        "  def __init__(self):\n",
        "    self.word_to_index = {}\n",
        "    self.index_to_word = {}\n",
        "\n",
        "  def train(self, text):\n",
        "    # get all the unique words in the text\n",
        "    words = set(text.split())\n",
        "\n",
        "    self.word_to_index = {word: index for index, word in enumerate(words)}\n",
        "    self.index_to_word = {index: word for word, index in self.word_to_index.items()}\n",
        "\n",
        "  def encode(self, text):\n",
        "    return [self.word_to_index.get(word, 0) for word in text.split()]\n",
        "\n",
        "  def decode(self, tokens):\n",
        "    return ' '.join([self.index_to_word.get(idx, \"[UNK]\") for idx in tokens])\n",
        "\n",
        "# testing the tokenizer\n",
        "\n",
        "# tokenizer = SimpleTokenizer()\n",
        "# sample_text = \"hello world this is a simple tokenizer\"\n",
        "# tokenizer.train(sample_text)\n",
        "\n",
        "# encoded_text = tokenizer.encode(sample_text)\n",
        "# decoded_text = tokenizer.decode(encoded_text)\n",
        "\n",
        "# print(\"Encoded Text:\", encoded_text)\n",
        "# print(\"Decoded Text:\", decoded_text)\n",
        "\n",
        ""
      ],
      "metadata": {
        "colab": {
          "base_uri": "https://localhost:8080/"
        },
        "id": "e5_VjlGwFbBi",
        "outputId": "ccec6bd0-05a4-4a77-fcd7-22e1aae4ed36"
      },
      "execution_count": 39,
      "outputs": [
        {
          "output_type": "stream",
          "name": "stdout",
          "text": [
            "{'this': 0, 'tokenizer': 1, 'a': 2, 'simple': 3, 'world': 4, 'hello': 5, 'is': 6}\n",
            "Encoded Text: [5, 4, 0, 6, 2, 3, 1]\n",
            "Decoded Text: hello world this is a simple tokenizer\n"
          ]
        }
      ]
    }
  ]
}